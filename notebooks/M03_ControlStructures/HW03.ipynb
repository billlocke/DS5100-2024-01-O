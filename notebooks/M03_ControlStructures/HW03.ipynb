{
 "cells": [
  {
   "cell_type": "code",
   "execution_count": 1,
   "id": "bba30cdd-35db-4f26-a07b-229ddcaa3531",
   "metadata": {
    "tags": []
   },
   "outputs": [
    {
     "name": "stdout",
     "output_type": "stream",
     "text": [
      "Wahoo\n",
      "wah!\n",
      "Wahoo\n",
      "Wahoo\n",
      "wah!\n",
      "Wahoo\n",
      "Wahoowah!\n",
      "Wahoo\n",
      "wah!\n",
      "Wahoo\n",
      "Wahoo\n",
      "wah!\n",
      "Wahoo\n",
      "Wahoowah!\n",
      "Wahoo\n",
      "wah!\n",
      "Wahoo\n",
      "Wahoo\n",
      "wah!\n",
      "Wahoo\n",
      "Wahoowah!\n",
      "Wahoo\n",
      "wah!\n",
      "Wahoo\n",
      "Wahoo\n",
      "wah!\n",
      "Wahoo\n",
      "Wahoowah!\n",
      "Wahoo\n",
      "wah!\n",
      "Wahoo\n",
      "Wahoo\n",
      "wah!\n",
      "Wahoo\n",
      "Wahoowah!\n",
      "Wahoo\n",
      "wah!\n",
      "Wahoo\n",
      "Wahoo\n",
      "wah!\n",
      "Wahoo\n",
      "Wahoowah!\n",
      "Wahoo\n",
      "wah!\n",
      "Wahoo\n",
      "Wahoo\n",
      "wah!\n",
      "47\n"
     ]
    }
   ],
   "source": [
    "\"\"\"Metadata\n",
    "\n",
    "# Course:   DS 5100\n",
    "Term:     Fall 2023\n",
    "Module:   M03 Homework\n",
    "Author:   R.C. Alvarado\n",
    "Date:     19 August 2023 (revised)\n",
    "Student Info\n",
    "\n",
    "Name: Bill Locke\n",
    "Net ID: wpl3a\n",
    "URL of this file in GitHub:\n",
    "Instructions\n",
    "Task 1\n",
    "\n",
    "(6 points)\n",
    "\n",
    "Using the for loop and if statement control structures, write a script that generates the integers from 1 to 100 and does the following things:\n",
    "\n",
    "If 3 is a factor of the number but 5 is not, print Wahoo.\n",
    "If 5 is a factor of the number but 3 is not, print wah!.\n",
    "If both 3 and 5 are factors of the number, print Wahoowah!.\n",
    "If the number meets none of the above conditions, print nothing, not even a line break.\n",
    "Make sure that the line printed for each iteration in which a condition is met ends with a line break.\n",
    "When the loop is finished, print the number of times either condition was met, i.e. the number of lines that were printed.\n",
    "Hint: You may not need to use elif and else to accomplish these tasks.\n",
    "\"\"\"\n",
    "n = 0\n",
    "for i in range(1,101):          # coded adapted from 2/8 office hour <= brillian code!\n",
    "    a = i % 3 == 0\n",
    "    b = i % 5 == 0\n",
    "    c = a or b\n",
    "    if a:\n",
    "        print(\"Wahoo\", end='')\n",
    "    if b:\n",
    "        print (\"wah!\", end='')  # if \"Wahoo\" was printed, concatenate \"Wah!\" to \"Wahoo\"; else print \"wah!\"\n",
    "    if c:                       # pythonic (but this is clearer to me): use \"if a or b\" in place of \"c\"\n",
    "        n += 1\n",
    "        print()                 # prints newline character if something was printed\n",
    "print(n)"
   ]
  },
  {
   "cell_type": "code",
   "execution_count": 2,
   "id": "50bd280f-0ebe-49ea-9ef2-0a18ded217a4",
   "metadata": {
    "tags": []
   },
   "outputs": [
    {
     "name": "stdout",
     "output_type": "stream",
     "text": [
      "Wahoowah!\n",
      "Wahoowah!\n",
      "Wahoowah!\n",
      "Wahoowah!\n",
      "Wahoowah!\n",
      "Wahoowah!\n",
      "6\n"
     ]
    }
   ],
   "source": [
    "\"\"\"\n",
    "Task 2\n",
    "\n",
    "(3 points)\n",
    "\n",
    "Rewrite the for loop as a while loop.\n",
    "\n",
    "This time, only print lines where both conditions are met.\n",
    "\n",
    "Include a final line which prints the number of times both conditions are met.\n",
    "\"\"\"\n",
    "i = n = 0\n",
    "while (i < 100):\n",
    "    i += 1\n",
    "    if (i % 3 == 0) & (i % 5 == 0):\n",
    "        n += 1\n",
    "        print(\"Wahoowah!\")\n",
    "print(n)"
   ]
  },
  {
   "cell_type": "code",
   "execution_count": 1,
   "id": "310c3f56-36db-417b-b216-bbcde2727f70",
   "metadata": {
    "tags": []
   },
   "outputs": [
    {
     "name": "stdout",
     "output_type": "stream",
     "text": [
      "[0, 0, 1, 0, 1, 1, 0, 0, 1, 1, 0, 1, 0, 0, 3, 0, 0, 1, 0, 1, 1, 0, 0, 1, 1, 0, 1, 0, 0, 3, 0, 0, 1, 0, 1, 1, 0, 0, 1, 1, 0, 1, 0, 0, 3, 0, 0, 1, 0, 1, 1, 0, 0, 1, 1, 0, 1, 0, 0, 3, 0, 0, 1, 0, 1, 1, 0, 0, 1, 1, 0, 1, 0, 0, 3, 0, 0, 1, 0, 1, 1, 0, 0, 1, 1, 0, 1, 0, 0, 3, 0, 0, 1, 0, 1, 1, 0, 0, 1, 1]\n"
     ]
    }
   ],
   "source": [
    "\"\"\"\n",
    "Task 3\n",
    "\n",
    "(3 points)\n",
    "\n",
    "Write a list comprehension that iterates through the integers from 1 to 100 and returns a list containing the sum of the boolean values of the three conditions described in Task 1.\n",
    "\n",
    "\"\"\"\n",
    "condition_list = [  (\n",
    "                    (n % 3 == 0) +\n",
    "                    (n % 5 == 0) +\n",
    "                    ((n % 3 == 0) & (n % 5 == 0))\n",
    "                    )\n",
    "                     for n in range (1, 101)]\n",
    "#print (n\n",
    "print (condition_list)\n"
   ]
  },
  {
   "cell_type": "code",
   "execution_count": null,
   "id": "e7f312bf-f220-417c-aeca-74c753b54cd0",
   "metadata": {},
   "outputs": [],
   "source": []
  }
 ],
 "metadata": {
  "kernelspec": {
   "display_name": "Python 3 (ipykernel)",
   "language": "python",
   "name": "python3"
  },
  "language_info": {
   "codemirror_mode": {
    "name": "ipython",
    "version": 3
   },
   "file_extension": ".py",
   "mimetype": "text/x-python",
   "name": "python",
   "nbconvert_exporter": "python",
   "pygments_lexer": "ipython3",
   "version": "3.11.4"
  }
 },
 "nbformat": 4,
 "nbformat_minor": 5
}
